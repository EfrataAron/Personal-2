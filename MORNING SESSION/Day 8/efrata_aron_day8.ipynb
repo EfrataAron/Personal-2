{
 "cells": [
  {
   "cell_type": "code",
   "execution_count": 1,
   "metadata": {},
   "outputs": [
    {
     "name": "stdout",
     "output_type": "stream",
     "text": [
      "1.26.4\n",
      "2.2.2\n"
     ]
    }
   ],
   "source": [
    "# Data Science with Python\n",
    "\n",
    "# data analysis focus on processing data and extracting insights to give informed decisions.\n",
    "# Data analysis- reporting, visualizing and data insights\n",
    "# Tools- matplotlib\n",
    "# Data collection tool- ODK\n",
    "\n",
    "# ML focuses on modules that learn from algorithms\n",
    "# Tools - tensor flow\n",
    "\n",
    "# tools used in data science, analysis, ML\n",
    "# data collection tool, ODK \n",
    "\n",
    "# Applications of data science\n",
    "\"\"\"\n",
    "1. Climate change(Weather forecasting)\n",
    "2. Health care\n",
    "3. Traffic prediction(Google uses IP addresses)\n",
    "4.  Sports (betting)\n",
    "\"\"\"\n",
    "\n",
    "# Data wrangling- cleaning data \n",
    "\n",
    "# 1: import necessary libraries \n",
    "import numpy as np\n",
    "import pandas as pd \n",
    "import matplotlib.pyplot as plt\n",
    "import seaborn as sns \n",
    "\n",
    "print(np.__version__)\n",
    "print(pd.__version__)"
   ]
  },
  {
   "cell_type": "code",
   "execution_count": 2,
   "metadata": {},
   "outputs": [
    {
     "name": "stdout",
     "output_type": "stream",
     "text": [
      "Requirement already satisfied: matplotlib in c:\\users\\hp probook\\appdata\\local\\programs\\python\\python312\\lib\\site-packages (3.9.0)\n",
      "Requirement already satisfied: contourpy>=1.0.1 in c:\\users\\hp probook\\appdata\\local\\programs\\python\\python312\\lib\\site-packages (from matplotlib) (1.2.1)\n",
      "Requirement already satisfied: cycler>=0.10 in c:\\users\\hp probook\\appdata\\local\\programs\\python\\python312\\lib\\site-packages (from matplotlib) (0.12.1)\n",
      "Requirement already satisfied: fonttools>=4.22.0 in c:\\users\\hp probook\\appdata\\local\\programs\\python\\python312\\lib\\site-packages (from matplotlib) (4.53.0)\n",
      "Requirement already satisfied: kiwisolver>=1.3.1 in c:\\users\\hp probook\\appdata\\local\\programs\\python\\python312\\lib\\site-packages (from matplotlib) (1.4.5)\n",
      "Requirement already satisfied: numpy>=1.23 in c:\\users\\hp probook\\appdata\\local\\programs\\python\\python312\\lib\\site-packages (from matplotlib) (1.26.4)\n",
      "Requirement already satisfied: packaging>=20.0 in c:\\users\\hp probook\\appdata\\local\\programs\\python\\python312\\lib\\site-packages (from matplotlib) (24.1)\n",
      "Requirement already satisfied: pillow>=8 in c:\\users\\hp probook\\appdata\\local\\programs\\python\\python312\\lib\\site-packages (from matplotlib) (10.3.0)\n",
      "Requirement already satisfied: pyparsing>=2.3.1 in c:\\users\\hp probook\\appdata\\local\\programs\\python\\python312\\lib\\site-packages (from matplotlib) (3.1.2)\n",
      "Requirement already satisfied: python-dateutil>=2.7 in c:\\users\\hp probook\\appdata\\local\\programs\\python\\python312\\lib\\site-packages (from matplotlib) (2.9.0.post0)\n",
      "Requirement already satisfied: six>=1.5 in c:\\users\\hp probook\\appdata\\local\\programs\\python\\python312\\lib\\site-packages (from python-dateutil>=2.7->matplotlib) (1.16.0)\n",
      "Note: you may need to restart the kernel to use updated packages.\n"
     ]
    },
    {
     "name": "stderr",
     "output_type": "stream",
     "text": [
      "\n",
      "[notice] A new release of pip is available: 24.0 -> 24.1\n",
      "[notice] To update, run: python.exe -m pip install --upgrade pip\n"
     ]
    }
   ],
   "source": [
    "%pip install matplotlib\n"
   ]
  },
  {
   "cell_type": "code",
   "execution_count": 3,
   "metadata": {},
   "outputs": [
    {
     "name": "stdout",
     "output_type": "stream",
     "text": [
      "   number_siblings                   name     sex  age living_allowance  \\\n",
      "0                1     Nakasujja Gertrude  female   33              NaN   \n",
      "1                3  Arinda Asiimwe Atweta  female   23           50,000   \n",
      "2                4    Ndjekornom Victoire    male   23            25000   \n",
      "3                0         KATURAMU EDGAR    male   27           500000   \n",
      "4                4      Abinsinguza Lasse    male   24           100000   \n",
      "\n",
      "                  Are_you_a  How_many_time_do_eat_food  Unnamed: 7  \\\n",
      "0            Data Scientist                          2         NaN   \n",
      "1  Machine Learning Enginer                          1         NaN   \n",
      "2            Data Scientist                          1         NaN   \n",
      "3  Machine Learning Enginer                          2         NaN   \n",
      "4            Data Scientist                          2         NaN   \n",
      "\n",
      "   do_you_have_aboyfriend/girlfriend  \n",
      "0                                  1  \n",
      "1                                  1  \n",
      "2                                  0  \n",
      "3                                  0  \n",
      "4                                  1  \n"
     ]
    }
   ],
   "source": [
    "# step2: Load data set\n",
    "\n",
    "df = pd.read_csv(r\"C:\\Users\\HP PROBOOK\\Desktop\\RECESS_2\\MORNING SESSION\\Day 8\\niceguys.csv\")\n",
    "\n",
    "# display first row of the dataframe\n",
    "print(df.head(5))"
   ]
  },
  {
   "cell_type": "code",
   "execution_count": 4,
   "metadata": {},
   "outputs": [
    {
     "name": "stdout",
     "output_type": "stream",
     "text": [
      "number_siblings                       0\n",
      "name                                  0\n",
      "sex                                   0\n",
      "age                                   0\n",
      "living_allowance                      6\n",
      "Are_you_a                             0\n",
      "How_many_time_do_eat_food             0\n",
      "Unnamed: 7                           35\n",
      "do_you_have_aboyfriend/girlfriend     0\n",
      "dtype: int64\n"
     ]
    }
   ],
   "source": [
    "# Stepp3: Data cleaning and pre-processing\n",
    "\n",
    "# Check for missing values\n",
    "print(df.isnull().sum())"
   ]
  },
  {
   "cell_type": "code",
   "execution_count": 5,
   "metadata": {},
   "outputs": [
    {
     "ename": "TypeError",
     "evalue": "'DataFrame' object is not callable",
     "output_type": "error",
     "traceback": [
      "\u001b[1;31m---------------------------------------------------------------------------\u001b[0m",
      "\u001b[1;31mTypeError\u001b[0m                                 Traceback (most recent call last)",
      "Cell \u001b[1;32mIn[5], line 2\u001b[0m\n\u001b[0;32m      1\u001b[0m \u001b[38;5;66;03m# Fill missing values\u001b[39;00m\n\u001b[1;32m----> 2\u001b[0m df[\u001b[38;5;124m'\u001b[39m\u001b[38;5;124mliving_allowance\u001b[39m\u001b[38;5;124m'\u001b[39m]\u001b[38;5;241m.\u001b[39mfillna(\u001b[43mdf\u001b[49m\u001b[43m(\u001b[49m\u001b[38;5;124;43m'\u001b[39;49m\u001b[38;5;124;43mliving_allowance\u001b[39;49m\u001b[38;5;124;43m'\u001b[39;49m\u001b[43m)\u001b[49m\u001b[38;5;241m.\u001b[39mmedian(),inplace\u001b[38;5;241m=\u001b[39m\u001b[38;5;28;01mTrue\u001b[39;00m)\n\u001b[0;32m      4\u001b[0m \u001b[38;5;66;03m# Drop row where living allowance column has a value 50,000 and 1000,000\u001b[39;00m\n\u001b[0;32m      5\u001b[0m df[\u001b[38;5;241m~\u001b[39mdf[\u001b[38;5;124m'\u001b[39m\u001b[38;5;124mliving_allowance\u001b[39m\u001b[38;5;124m'\u001b[39m]\u001b[38;5;241m.\u001b[39misin([\u001b[38;5;241m50000\u001b[39m, \u001b[38;5;241m100000\u001b[39m])]\n",
      "\u001b[1;31mTypeError\u001b[0m: 'DataFrame' object is not callable"
     ]
    }
   ],
   "source": [
    "# Fill missing values\n",
    "df['living_allowance'].fillna(df('living_allowance').median(),inplace=True)\n",
    "\n",
    "# Drop row where living allowance column has a value 50,000 and 1000,000\n",
    "df[~df['living_allowance'].isin([50000, 100000])]"
   ]
  },
  {
   "cell_type": "code",
   "execution_count": null,
   "metadata": {},
   "outputs": [],
   "source": [
    "%pip install seaborn"
   ]
  },
  {
   "cell_type": "code",
   "execution_count": null,
   "metadata": {},
   "outputs": [],
   "source": [
    "# what to do\n",
    "# Step 1: import necessary libraries \n",
    "# Step 2: Loading the dataset\n",
    "# Step 3: Data cleaning and preproceesing\n",
    "# Step 4: EDA Explotary Data Analysis\n",
    "\n",
    "# Distribution students with Age and whether they have girlfriend or boyfriend\n",
    "# Gender who have boyfriend and girlfriend\n",
    "# Do you eat, age, gender and gf and bf\n",
    "# Living allowance and gf and bf\n",
    "# Those with bf nd gf if they have siblings,\n",
    "# the no meals taken and the living allowance\n",
    "# Careers and bf or gf\n",
    "\n",
    "# Correction Heatmaps, correlation matrix and plot the heatmaps\n",
    "\n",
    "# Decision making/ insights of the data, data analysis conclusions\n",
    "\n",
    "#1: Age and gf or bf\n",
    "#2: Gender and gf or bf\n",
    "#3: correlation analysis\n",
    "\n",
    "# whatever is in the steps, every question should appear in the conclusion"
   ]
  },
  {
   "cell_type": "markdown",
   "metadata": {},
   "source": []
  }
 ],
 "metadata": {
  "kernelspec": {
   "display_name": "Python 3",
   "language": "python",
   "name": "python3"
  },
  "language_info": {
   "codemirror_mode": {
    "name": "ipython",
    "version": 3
   },
   "file_extension": ".py",
   "mimetype": "text/x-python",
   "name": "python",
   "nbconvert_exporter": "python",
   "pygments_lexer": "ipython3",
   "version": "3.12.4"
  }
 },
 "nbformat": 4,
 "nbformat_minor": 2
}
