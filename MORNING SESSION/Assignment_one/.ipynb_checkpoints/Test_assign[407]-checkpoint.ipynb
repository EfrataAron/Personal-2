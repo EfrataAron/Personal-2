{
 "cells": [
  {
   "cell_type": "code",
   "execution_count": 1,
   "metadata": {},
   "outputs": [
    {
     "name": "stdout",
     "output_type": "stream",
     "text": [
      "Requirement already satisfied: otter-grader in c:\\users\\hp probook\\anaconda3\\lib\\site-packages (5.5.0)\n",
      "Requirement already satisfied: dill in c:\\users\\hp probook\\anaconda3\\lib\\site-packages (from otter-grader) (0.3.7)\n",
      "Requirement already satisfied: jinja2 in c:\\users\\hp probook\\anaconda3\\lib\\site-packages (from otter-grader) (3.1.3)\n",
      "Requirement already satisfied: nbformat in c:\\users\\hp probook\\anaconda3\\lib\\site-packages (from otter-grader) (5.9.2)\n",
      "Requirement already satisfied: pandas in c:\\users\\hp probook\\anaconda3\\lib\\site-packages (from otter-grader) (2.2.2)\n",
      "Requirement already satisfied: PyYAML in c:\\users\\hp probook\\anaconda3\\lib\\site-packages (from otter-grader) (6.0.1)\n",
      "Requirement already satisfied: python-on-whales in c:\\users\\hp probook\\anaconda3\\lib\\site-packages (from otter-grader) (0.71.0)\n",
      "Requirement already satisfied: requests in c:\\users\\hp probook\\anaconda3\\lib\\site-packages (from otter-grader) (2.31.0)\n",
      "Requirement already satisfied: wrapt in c:\\users\\hp probook\\anaconda3\\lib\\site-packages (from otter-grader) (1.14.1)\n",
      "Requirement already satisfied: jupytext in c:\\users\\hp probook\\anaconda3\\lib\\site-packages (from otter-grader) (1.16.2)\n",
      "Requirement already satisfied: click in c:\\users\\hp probook\\anaconda3\\lib\\site-packages (from otter-grader) (8.1.7)\n",
      "Requirement already satisfied: fica>=0.3.1 in c:\\users\\hp probook\\anaconda3\\lib\\site-packages (from otter-grader) (0.3.1)\n",
      "Requirement already satisfied: ipython in c:\\users\\hp probook\\anaconda3\\lib\\site-packages (from otter-grader) (8.20.0)\n",
      "Requirement already satisfied: astunparse in c:\\users\\hp probook\\anaconda3\\lib\\site-packages (from otter-grader) (1.6.3)\n",
      "Requirement already satisfied: ipywidgets in c:\\users\\hp probook\\anaconda3\\lib\\site-packages (from otter-grader) (7.6.5)\n",
      "Requirement already satisfied: ipylab in c:\\users\\hp probook\\anaconda3\\lib\\site-packages (from otter-grader) (1.0.0)\n",
      "Requirement already satisfied: nbconvert in c:\\users\\hp probook\\anaconda3\\lib\\site-packages (from otter-grader) (7.10.0)\n",
      "Requirement already satisfied: docutils in c:\\users\\hp probook\\anaconda3\\lib\\site-packages (from fica>=0.3.1->otter-grader) (0.18.1)\n",
      "Requirement already satisfied: sphinx in c:\\users\\hp probook\\anaconda3\\lib\\site-packages (from fica>=0.3.1->otter-grader) (5.0.2)\n",
      "Requirement already satisfied: wheel<1.0,>=0.23.0 in c:\\users\\hp probook\\anaconda3\\lib\\site-packages (from astunparse->otter-grader) (0.41.2)\n",
      "Requirement already satisfied: six<2.0,>=1.6.1 in c:\\users\\hp probook\\anaconda3\\lib\\site-packages (from astunparse->otter-grader) (1.16.0)\n",
      "Requirement already satisfied: colorama in c:\\users\\hp probook\\anaconda3\\lib\\site-packages (from click->otter-grader) (0.4.6)\n",
      "Requirement already satisfied: ipykernel>=4.5.1 in c:\\users\\hp probook\\anaconda3\\lib\\site-packages (from ipywidgets->otter-grader) (6.28.0)\n",
      "Requirement already satisfied: ipython-genutils~=0.2.0 in c:\\users\\hp probook\\anaconda3\\lib\\site-packages (from ipywidgets->otter-grader) (0.2.0)\n",
      "Requirement already satisfied: traitlets>=4.3.1 in c:\\users\\hp probook\\anaconda3\\lib\\site-packages (from ipywidgets->otter-grader) (5.7.1)\n",
      "Requirement already satisfied: widgetsnbextension~=3.5.0 in c:\\users\\hp probook\\anaconda3\\lib\\site-packages (from ipywidgets->otter-grader) (3.5.2)\n",
      "Requirement already satisfied: jupyterlab-widgets>=1.0.0 in c:\\users\\hp probook\\anaconda3\\lib\\site-packages (from ipywidgets->otter-grader) (3.0.9)\n",
      "Requirement already satisfied: decorator in c:\\users\\hp probook\\anaconda3\\lib\\site-packages (from ipython->otter-grader) (5.1.1)\n",
      "Requirement already satisfied: jedi>=0.16 in c:\\users\\hp probook\\anaconda3\\lib\\site-packages (from ipython->otter-grader) (0.18.1)\n",
      "Requirement already satisfied: matplotlib-inline in c:\\users\\hp probook\\anaconda3\\lib\\site-packages (from ipython->otter-grader) (0.1.6)\n",
      "Requirement already satisfied: prompt-toolkit<3.1.0,>=3.0.41 in c:\\users\\hp probook\\anaconda3\\lib\\site-packages (from ipython->otter-grader) (3.0.43)\n",
      "Requirement already satisfied: pygments>=2.4.0 in c:\\users\\hp probook\\anaconda3\\lib\\site-packages (from ipython->otter-grader) (2.15.1)\n",
      "Requirement already satisfied: stack-data in c:\\users\\hp probook\\anaconda3\\lib\\site-packages (from ipython->otter-grader) (0.2.0)\n",
      "Requirement already satisfied: fastjsonschema in c:\\users\\hp probook\\anaconda3\\lib\\site-packages (from nbformat->otter-grader) (2.16.2)\n",
      "Requirement already satisfied: jsonschema>=2.6 in c:\\users\\hp probook\\anaconda3\\lib\\site-packages (from nbformat->otter-grader) (4.19.2)\n",
      "Requirement already satisfied: jupyter-core in c:\\users\\hp probook\\anaconda3\\lib\\site-packages (from nbformat->otter-grader) (5.5.0)\n",
      "Requirement already satisfied: MarkupSafe>=2.0 in c:\\users\\hp probook\\anaconda3\\lib\\site-packages (from jinja2->otter-grader) (2.1.3)\n",
      "Requirement already satisfied: markdown-it-py>=1.0 in c:\\users\\hp probook\\anaconda3\\lib\\site-packages (from jupytext->otter-grader) (2.2.0)\n",
      "Requirement already satisfied: mdit-py-plugins in c:\\users\\hp probook\\anaconda3\\lib\\site-packages (from jupytext->otter-grader) (0.3.0)\n",
      "Requirement already satisfied: packaging in c:\\users\\hp probook\\anaconda3\\lib\\site-packages (from jupytext->otter-grader) (23.1)\n",
      "Requirement already satisfied: beautifulsoup4 in c:\\users\\hp probook\\anaconda3\\lib\\site-packages (from nbconvert->otter-grader) (4.12.2)\n",
      "Requirement already satisfied: bleach!=5.0.0 in c:\\users\\hp probook\\anaconda3\\lib\\site-packages (from nbconvert->otter-grader) (4.1.0)\n",
      "Requirement already satisfied: defusedxml in c:\\users\\hp probook\\anaconda3\\lib\\site-packages (from nbconvert->otter-grader) (0.7.1)\n",
      "Requirement already satisfied: jupyterlab-pygments in c:\\users\\hp probook\\anaconda3\\lib\\site-packages (from nbconvert->otter-grader) (0.1.2)\n",
      "Requirement already satisfied: mistune<4,>=2.0.3 in c:\\users\\hp probook\\anaconda3\\lib\\site-packages (from nbconvert->otter-grader) (2.0.4)\n",
      "Requirement already satisfied: nbclient>=0.5.0 in c:\\users\\hp probook\\anaconda3\\lib\\site-packages (from nbconvert->otter-grader) (0.8.0)\n",
      "Requirement already satisfied: pandocfilters>=1.4.1 in c:\\users\\hp probook\\anaconda3\\lib\\site-packages (from nbconvert->otter-grader) (1.5.0)\n",
      "Requirement already satisfied: tinycss2 in c:\\users\\hp probook\\anaconda3\\lib\\site-packages (from nbconvert->otter-grader) (1.2.1)\n",
      "Requirement already satisfied: numpy>=1.23.2 in c:\\users\\hp probook\\anaconda3\\lib\\site-packages (from pandas->otter-grader) (1.26.4)\n",
      "Requirement already satisfied: python-dateutil>=2.8.2 in c:\\users\\hp probook\\anaconda3\\lib\\site-packages (from pandas->otter-grader) (2.8.2)\n",
      "Requirement already satisfied: pytz>=2020.1 in c:\\users\\hp probook\\anaconda3\\lib\\site-packages (from pandas->otter-grader) (2023.3.post1)\n",
      "Requirement already satisfied: tzdata>=2022.7 in c:\\users\\hp probook\\anaconda3\\lib\\site-packages (from pandas->otter-grader) (2023.3)\n",
      "Requirement already satisfied: pydantic!=2.0.*,<3,>=1.9 in c:\\users\\hp probook\\anaconda3\\lib\\site-packages (from python-on-whales->otter-grader) (1.10.12)\n",
      "Requirement already satisfied: tqdm in c:\\users\\hp probook\\anaconda3\\lib\\site-packages (from python-on-whales->otter-grader) (4.65.0)\n",
      "Requirement already satisfied: typer>=0.4.1 in c:\\users\\hp probook\\anaconda3\\lib\\site-packages (from python-on-whales->otter-grader) (0.12.3)\n",
      "Requirement already satisfied: typing-extensions in c:\\users\\hp probook\\anaconda3\\lib\\site-packages (from python-on-whales->otter-grader) (4.9.0)\n",
      "Requirement already satisfied: charset-normalizer<4,>=2 in c:\\users\\hp probook\\anaconda3\\lib\\site-packages (from requests->otter-grader) (2.0.4)\n",
      "Requirement already satisfied: idna<4,>=2.5 in c:\\users\\hp probook\\anaconda3\\lib\\site-packages (from requests->otter-grader) (3.4)\n",
      "Requirement already satisfied: urllib3<3,>=1.21.1 in c:\\users\\hp probook\\anaconda3\\lib\\site-packages (from requests->otter-grader) (2.0.7)\n",
      "Requirement already satisfied: certifi>=2017.4.17 in c:\\users\\hp probook\\anaconda3\\lib\\site-packages (from requests->otter-grader) (2024.2.2)\n",
      "Requirement already satisfied: webencodings in c:\\users\\hp probook\\anaconda3\\lib\\site-packages (from bleach!=5.0.0->nbconvert->otter-grader) (0.5.1)\n",
      "Requirement already satisfied: comm>=0.1.1 in c:\\users\\hp probook\\anaconda3\\lib\\site-packages (from ipykernel>=4.5.1->ipywidgets->otter-grader) (0.1.2)\n",
      "Requirement already satisfied: debugpy>=1.6.5 in c:\\users\\hp probook\\anaconda3\\lib\\site-packages (from ipykernel>=4.5.1->ipywidgets->otter-grader) (1.6.7)\n",
      "Requirement already satisfied: jupyter-client>=6.1.12 in c:\\users\\hp probook\\anaconda3\\lib\\site-packages (from ipykernel>=4.5.1->ipywidgets->otter-grader) (8.6.0)\n",
      "Requirement already satisfied: nest-asyncio in c:\\users\\hp probook\\anaconda3\\lib\\site-packages (from ipykernel>=4.5.1->ipywidgets->otter-grader) (1.6.0)\n",
      "Requirement already satisfied: psutil in c:\\users\\hp probook\\anaconda3\\lib\\site-packages (from ipykernel>=4.5.1->ipywidgets->otter-grader) (5.9.0)\n",
      "Requirement already satisfied: pyzmq>=24 in c:\\users\\hp probook\\anaconda3\\lib\\site-packages (from ipykernel>=4.5.1->ipywidgets->otter-grader) (25.1.2)\n",
      "Requirement already satisfied: tornado>=6.1 in c:\\users\\hp probook\\anaconda3\\lib\\site-packages (from ipykernel>=4.5.1->ipywidgets->otter-grader) (6.3.3)\n",
      "Requirement already satisfied: parso<0.9.0,>=0.8.0 in c:\\users\\hp probook\\anaconda3\\lib\\site-packages (from jedi>=0.16->ipython->otter-grader) (0.8.3)\n",
      "Requirement already satisfied: attrs>=22.2.0 in c:\\users\\hp probook\\anaconda3\\lib\\site-packages (from jsonschema>=2.6->nbformat->otter-grader) (23.1.0)\n",
      "Requirement already satisfied: jsonschema-specifications>=2023.03.6 in c:\\users\\hp probook\\anaconda3\\lib\\site-packages (from jsonschema>=2.6->nbformat->otter-grader) (2023.7.1)\n",
      "Requirement already satisfied: referencing>=0.28.4 in c:\\users\\hp probook\\anaconda3\\lib\\site-packages (from jsonschema>=2.6->nbformat->otter-grader) (0.30.2)\n",
      "Requirement already satisfied: rpds-py>=0.7.1 in c:\\users\\hp probook\\anaconda3\\lib\\site-packages (from jsonschema>=2.6->nbformat->otter-grader) (0.10.6)\n",
      "Requirement already satisfied: platformdirs>=2.5 in c:\\users\\hp probook\\anaconda3\\lib\\site-packages (from jupyter-core->nbformat->otter-grader) (3.10.0)\n",
      "Requirement already satisfied: pywin32>=300 in c:\\users\\hp probook\\anaconda3\\lib\\site-packages (from jupyter-core->nbformat->otter-grader) (305.1)\n",
      "Requirement already satisfied: mdurl~=0.1 in c:\\users\\hp probook\\anaconda3\\lib\\site-packages (from markdown-it-py>=1.0->jupytext->otter-grader) (0.1.0)\n",
      "Requirement already satisfied: wcwidth in c:\\users\\hp probook\\anaconda3\\lib\\site-packages (from prompt-toolkit<3.1.0,>=3.0.41->ipython->otter-grader) (0.2.5)\n",
      "Requirement already satisfied: shellingham>=1.3.0 in c:\\users\\hp probook\\anaconda3\\lib\\site-packages (from typer>=0.4.1->python-on-whales->otter-grader) (1.5.4)\n",
      "Requirement already satisfied: rich>=10.11.0 in c:\\users\\hp probook\\anaconda3\\lib\\site-packages (from typer>=0.4.1->python-on-whales->otter-grader) (13.3.5)\n",
      "Requirement already satisfied: notebook>=4.4.1 in c:\\users\\hp probook\\anaconda3\\lib\\site-packages (from widgetsnbextension~=3.5.0->ipywidgets->otter-grader) (7.0.8)\n",
      "Requirement already satisfied: soupsieve>1.2 in c:\\users\\hp probook\\anaconda3\\lib\\site-packages (from beautifulsoup4->nbconvert->otter-grader) (2.5)\n",
      "Requirement already satisfied: sphinxcontrib-applehelp in c:\\users\\hp probook\\anaconda3\\lib\\site-packages (from sphinx->fica>=0.3.1->otter-grader) (1.0.2)\n",
      "Requirement already satisfied: sphinxcontrib-devhelp in c:\\users\\hp probook\\anaconda3\\lib\\site-packages (from sphinx->fica>=0.3.1->otter-grader) (1.0.2)\n",
      "Requirement already satisfied: sphinxcontrib-jsmath in c:\\users\\hp probook\\anaconda3\\lib\\site-packages (from sphinx->fica>=0.3.1->otter-grader) (1.0.1)\n",
      "Requirement already satisfied: sphinxcontrib-htmlhelp>=2.0.0 in c:\\users\\hp probook\\anaconda3\\lib\\site-packages (from sphinx->fica>=0.3.1->otter-grader) (2.0.0)\n",
      "Requirement already satisfied: sphinxcontrib-serializinghtml>=1.1.5 in c:\\users\\hp probook\\anaconda3\\lib\\site-packages (from sphinx->fica>=0.3.1->otter-grader) (1.1.5)\n",
      "Requirement already satisfied: sphinxcontrib-qthelp in c:\\users\\hp probook\\anaconda3\\lib\\site-packages (from sphinx->fica>=0.3.1->otter-grader) (1.0.3)\n",
      "Requirement already satisfied: snowballstemmer>=1.1 in c:\\users\\hp probook\\anaconda3\\lib\\site-packages (from sphinx->fica>=0.3.1->otter-grader) (2.2.0)\n",
      "Requirement already satisfied: babel>=1.3 in c:\\users\\hp probook\\anaconda3\\lib\\site-packages (from sphinx->fica>=0.3.1->otter-grader) (2.11.0)\n",
      "Requirement already satisfied: alabaster<0.8,>=0.7 in c:\\users\\hp probook\\anaconda3\\lib\\site-packages (from sphinx->fica>=0.3.1->otter-grader) (0.7.12)\n",
      "Requirement already satisfied: imagesize in c:\\users\\hp probook\\anaconda3\\lib\\site-packages (from sphinx->fica>=0.3.1->otter-grader) (1.4.1)\n",
      "Requirement already satisfied: executing in c:\\users\\hp probook\\anaconda3\\lib\\site-packages (from stack-data->ipython->otter-grader) (0.8.3)\n",
      "Requirement already satisfied: asttokens in c:\\users\\hp probook\\anaconda3\\lib\\site-packages (from stack-data->ipython->otter-grader) (2.0.5)\n",
      "Requirement already satisfied: pure-eval in c:\\users\\hp probook\\anaconda3\\lib\\site-packages (from stack-data->ipython->otter-grader) (0.2.2)\n",
      "Requirement already satisfied: jupyter-server<3,>=2.4.0 in c:\\users\\hp probook\\anaconda3\\lib\\site-packages (from notebook>=4.4.1->widgetsnbextension~=3.5.0->ipywidgets->otter-grader) (2.10.0)\n",
      "Requirement already satisfied: jupyterlab-server<3,>=2.22.1 in c:\\users\\hp probook\\anaconda3\\lib\\site-packages (from notebook>=4.4.1->widgetsnbextension~=3.5.0->ipywidgets->otter-grader) (2.25.1)\n",
      "Requirement already satisfied: jupyterlab<4.1,>=4.0.2 in c:\\users\\hp probook\\anaconda3\\lib\\site-packages (from notebook>=4.4.1->widgetsnbextension~=3.5.0->ipywidgets->otter-grader) (4.0.11)\n",
      "Requirement already satisfied: notebook-shim<0.3,>=0.2 in c:\\users\\hp probook\\anaconda3\\lib\\site-packages (from notebook>=4.4.1->widgetsnbextension~=3.5.0->ipywidgets->otter-grader) (0.2.3)\n",
      "Requirement already satisfied: anyio>=3.1.0 in c:\\users\\hp probook\\anaconda3\\lib\\site-packages (from jupyter-server<3,>=2.4.0->notebook>=4.4.1->widgetsnbextension~=3.5.0->ipywidgets->otter-grader) (4.2.0)\n",
      "Requirement already satisfied: argon2-cffi in c:\\users\\hp probook\\anaconda3\\lib\\site-packages (from jupyter-server<3,>=2.4.0->notebook>=4.4.1->widgetsnbextension~=3.5.0->ipywidgets->otter-grader) (21.3.0)\n",
      "Requirement already satisfied: jupyter-events>=0.6.0 in c:\\users\\hp probook\\anaconda3\\lib\\site-packages (from jupyter-server<3,>=2.4.0->notebook>=4.4.1->widgetsnbextension~=3.5.0->ipywidgets->otter-grader) (0.8.0)\n",
      "Requirement already satisfied: jupyter-server-terminals in c:\\users\\hp probook\\anaconda3\\lib\\site-packages (from jupyter-server<3,>=2.4.0->notebook>=4.4.1->widgetsnbextension~=3.5.0->ipywidgets->otter-grader) (0.4.4)\n",
      "Requirement already satisfied: overrides in c:\\users\\hp probook\\anaconda3\\lib\\site-packages (from jupyter-server<3,>=2.4.0->notebook>=4.4.1->widgetsnbextension~=3.5.0->ipywidgets->otter-grader) (7.4.0)\n",
      "Requirement already satisfied: prometheus-client in c:\\users\\hp probook\\anaconda3\\lib\\site-packages (from jupyter-server<3,>=2.4.0->notebook>=4.4.1->widgetsnbextension~=3.5.0->ipywidgets->otter-grader) (0.14.1)\n",
      "Requirement already satisfied: pywinpty in c:\\users\\hp probook\\anaconda3\\lib\\site-packages (from jupyter-server<3,>=2.4.0->notebook>=4.4.1->widgetsnbextension~=3.5.0->ipywidgets->otter-grader) (2.0.10)\n",
      "Requirement already satisfied: send2trash>=1.8.2 in c:\\users\\hp probook\\anaconda3\\lib\\site-packages (from jupyter-server<3,>=2.4.0->notebook>=4.4.1->widgetsnbextension~=3.5.0->ipywidgets->otter-grader) (1.8.2)\n",
      "Requirement already satisfied: terminado>=0.8.3 in c:\\users\\hp probook\\anaconda3\\lib\\site-packages (from jupyter-server<3,>=2.4.0->notebook>=4.4.1->widgetsnbextension~=3.5.0->ipywidgets->otter-grader) (0.17.1)\n",
      "Requirement already satisfied: websocket-client in c:\\users\\hp probook\\anaconda3\\lib\\site-packages (from jupyter-server<3,>=2.4.0->notebook>=4.4.1->widgetsnbextension~=3.5.0->ipywidgets->otter-grader) (0.58.0)\n",
      "Requirement already satisfied: async-lru>=1.0.0 in c:\\users\\hp probook\\anaconda3\\lib\\site-packages (from jupyterlab<4.1,>=4.0.2->notebook>=4.4.1->widgetsnbextension~=3.5.0->ipywidgets->otter-grader) (2.0.4)\n",
      "Requirement already satisfied: jupyter-lsp>=2.0.0 in c:\\users\\hp probook\\anaconda3\\lib\\site-packages (from jupyterlab<4.1,>=4.0.2->notebook>=4.4.1->widgetsnbextension~=3.5.0->ipywidgets->otter-grader) (2.2.0)\n",
      "Requirement already satisfied: json5>=0.9.0 in c:\\users\\hp probook\\anaconda3\\lib\\site-packages (from jupyterlab-server<3,>=2.22.1->notebook>=4.4.1->widgetsnbextension~=3.5.0->ipywidgets->otter-grader) (0.9.6)\n",
      "Requirement already satisfied: sniffio>=1.1 in c:\\users\\hp probook\\anaconda3\\lib\\site-packages (from anyio>=3.1.0->jupyter-server<3,>=2.4.0->notebook>=4.4.1->widgetsnbextension~=3.5.0->ipywidgets->otter-grader) (1.3.0)\n",
      "Requirement already satisfied: python-json-logger>=2.0.4 in c:\\users\\hp probook\\anaconda3\\lib\\site-packages (from jupyter-events>=0.6.0->jupyter-server<3,>=2.4.0->notebook>=4.4.1->widgetsnbextension~=3.5.0->ipywidgets->otter-grader) (2.0.7)\n",
      "Requirement already satisfied: rfc3339-validator in c:\\users\\hp probook\\anaconda3\\lib\\site-packages (from jupyter-events>=0.6.0->jupyter-server<3,>=2.4.0->notebook>=4.4.1->widgetsnbextension~=3.5.0->ipywidgets->otter-grader) (0.1.4)\n",
      "Requirement already satisfied: rfc3986-validator>=0.1.1 in c:\\users\\hp probook\\anaconda3\\lib\\site-packages (from jupyter-events>=0.6.0->jupyter-server<3,>=2.4.0->notebook>=4.4.1->widgetsnbextension~=3.5.0->ipywidgets->otter-grader) (0.1.1)\n",
      "Requirement already satisfied: argon2-cffi-bindings in c:\\users\\hp probook\\anaconda3\\lib\\site-packages (from argon2-cffi->jupyter-server<3,>=2.4.0->notebook>=4.4.1->widgetsnbextension~=3.5.0->ipywidgets->otter-grader) (21.2.0)\n",
      "Requirement already satisfied: fqdn in c:\\users\\hp probook\\anaconda3\\lib\\site-packages (from jsonschema[format-nongpl]>=4.18.0->jupyter-events>=0.6.0->jupyter-server<3,>=2.4.0->notebook>=4.4.1->widgetsnbextension~=3.5.0->ipywidgets->otter-grader) (1.5.1)\n",
      "Requirement already satisfied: isoduration in c:\\users\\hp probook\\anaconda3\\lib\\site-packages (from jsonschema[format-nongpl]>=4.18.0->jupyter-events>=0.6.0->jupyter-server<3,>=2.4.0->notebook>=4.4.1->widgetsnbextension~=3.5.0->ipywidgets->otter-grader) (20.11.0)\n",
      "Requirement already satisfied: jsonpointer>1.13 in c:\\users\\hp probook\\anaconda3\\lib\\site-packages (from jsonschema[format-nongpl]>=4.18.0->jupyter-events>=0.6.0->jupyter-server<3,>=2.4.0->notebook>=4.4.1->widgetsnbextension~=3.5.0->ipywidgets->otter-grader) (2.1)\n",
      "Requirement already satisfied: uri-template in c:\\users\\hp probook\\anaconda3\\lib\\site-packages (from jsonschema[format-nongpl]>=4.18.0->jupyter-events>=0.6.0->jupyter-server<3,>=2.4.0->notebook>=4.4.1->widgetsnbextension~=3.5.0->ipywidgets->otter-grader) (1.3.0)\n",
      "Requirement already satisfied: webcolors>=1.11 in c:\\users\\hp probook\\anaconda3\\lib\\site-packages (from jsonschema[format-nongpl]>=4.18.0->jupyter-events>=0.6.0->jupyter-server<3,>=2.4.0->notebook>=4.4.1->widgetsnbextension~=3.5.0->ipywidgets->otter-grader) (24.6.0)\n",
      "Requirement already satisfied: cffi>=1.0.1 in c:\\users\\hp probook\\anaconda3\\lib\\site-packages (from argon2-cffi-bindings->argon2-cffi->jupyter-server<3,>=2.4.0->notebook>=4.4.1->widgetsnbextension~=3.5.0->ipywidgets->otter-grader) (1.16.0)\n",
      "Requirement already satisfied: pycparser in c:\\users\\hp probook\\anaconda3\\lib\\site-packages (from cffi>=1.0.1->argon2-cffi-bindings->argon2-cffi->jupyter-server<3,>=2.4.0->notebook>=4.4.1->widgetsnbextension~=3.5.0->ipywidgets->otter-grader) (2.21)\n",
      "Requirement already satisfied: arrow>=0.15.0 in c:\\users\\hp probook\\anaconda3\\lib\\site-packages (from isoduration->jsonschema[format-nongpl]>=4.18.0->jupyter-events>=0.6.0->jupyter-server<3,>=2.4.0->notebook>=4.4.1->widgetsnbextension~=3.5.0->ipywidgets->otter-grader) (1.2.3)\n",
      "Note: you may need to restart the kernel to use updated packages.\n"
     ]
    }
   ],
   "source": [
    "# Initialize Otter\n",
    "\n",
    "%pip install otter-grader\n"
   ]
  },
  {
   "cell_type": "code",
   "execution_count": 2,
   "metadata": {},
   "outputs": [],
   "source": [
    "import otter\n",
    "grader = otter.Notebook(\"Test_assign[407].ipynb\")"
   ]
  },
  {
   "cell_type": "code",
   "execution_count": 3,
   "metadata": {},
   "outputs": [],
   "source": [
    "import pandas as pd\n",
    "import numpy as np\n",
    "%matplotlib inline\n",
    "import otter\n",
    "\n",
    "grader = otter.Notebook()\n",
    "# grader = otter.Notebook(\"Test_assign[407].ipynb\")"
   ]
  },
  {
   "cell_type": "code",
   "execution_count": 4,
   "metadata": {},
   "outputs": [],
   "source": [
    "##Question 1:** write a function `isValid(s)` that takes as argument a string s containing a \n",
    "# sequence of parenthesis '(', ')', '{', '}', '[' and ']', and  determines if the input is valid.\n",
    "# A input string is valid if for every open parenthensis there is a close one and parenthesis is well-formed. \n",
    "# e.g  \"(){}[]\" is valid.\n"
   ]
  },
  {
   "cell_type": "code",
   "execution_count": 5,
   "metadata": {},
   "outputs": [
    {
     "name": "stdout",
     "output_type": "stream",
     "text": [
      "False\n",
      "False\n"
     ]
    }
   ],
   "source": [
    "\n",
    "def isValid(s: str) -> bool:\n",
    "    stack = []\n",
    "    mapping = {')': '(', '}': '{', ']': '['}\n",
    "    \n",
    "    for char in s:\n",
    "        if char in mapping:\n",
    "            # If stack is empty, it means there's no matching opening parenthesis\n",
    "            if not stack:\n",
    "                return False\n",
    "            top_element = stack.pop()\n",
    "            if mapping[char]!= top_element:\n",
    "                return False\n",
    "        else:\n",
    "            stack.append(char)\n",
    "    \n",
    "    # An empty stack means all characters were balanced\n",
    "    return not stack\n",
    "\n",
    "\n",
    "\n",
    "\n",
    "# Test the function with an invalid string\n",
    "print(isValid(\"({}[]\"))   # Should return False\n",
    "print( isValid(\"{[(])}\") )"
   ]
  },
  {
   "cell_type": "code",
   "execution_count": 6,
   "metadata": {},
   "outputs": [
    {
     "ename": "ValueError",
     "evalue": "Test q1 not found",
     "output_type": "error",
     "traceback": [
      "\u001b[1;31m---------------------------------------------------------------------------\u001b[0m",
      "\u001b[1;31mValueError\u001b[0m                                Traceback (most recent call last)",
      "Cell \u001b[1;32mIn[6], line 1\u001b[0m\n\u001b[1;32m----> 1\u001b[0m grader\u001b[38;5;241m.\u001b[39mcheck(\u001b[38;5;124m\"\u001b[39m\u001b[38;5;124mq1\u001b[39m\u001b[38;5;124m\"\u001b[39m)\n",
      "File \u001b[1;32m~\\anaconda3\\Lib\\site-packages\\otter\\check\\utils.py:217\u001b[0m, in \u001b[0;36mlogs_event.<locals>.event_logger\u001b[1;34m(wrapped, self, args, kwargs)\u001b[0m\n\u001b[0;32m    215\u001b[0m \u001b[38;5;28;01mexcept\u001b[39;00m \u001b[38;5;167;01mException\u001b[39;00m \u001b[38;5;28;01mas\u001b[39;00m e:\n\u001b[0;32m    216\u001b[0m     \u001b[38;5;28mself\u001b[39m\u001b[38;5;241m.\u001b[39m_log_event(event_type, success\u001b[38;5;241m=\u001b[39m\u001b[38;5;28;01mFalse\u001b[39;00m, error\u001b[38;5;241m=\u001b[39me)\n\u001b[1;32m--> 217\u001b[0m     \u001b[38;5;28;01mraise\u001b[39;00m e\n\u001b[0;32m    219\u001b[0m \u001b[38;5;28;01mif\u001b[39;00m ret \u001b[38;5;129;01mis\u001b[39;00m \u001b[38;5;28;01mNone\u001b[39;00m:\n\u001b[0;32m    220\u001b[0m     ret \u001b[38;5;241m=\u001b[39m LoggedEventReturnValue(\u001b[38;5;28;01mNone\u001b[39;00m)\n",
      "File \u001b[1;32m~\\anaconda3\\Lib\\site-packages\\otter\\check\\utils.py:213\u001b[0m, in \u001b[0;36mlogs_event.<locals>.event_logger\u001b[1;34m(wrapped, self, args, kwargs)\u001b[0m\n\u001b[0;32m    208\u001b[0m \u001b[38;5;250m\u001b[39m\u001b[38;5;124;03m\"\"\"\u001b[39;00m\n\u001b[0;32m    209\u001b[0m \u001b[38;5;124;03mRuns a method, catching any errors and logging the call. Returns the unwrapped return value\u001b[39;00m\n\u001b[0;32m    210\u001b[0m \u001b[38;5;124;03mof the wrapped function.\u001b[39;00m\n\u001b[0;32m    211\u001b[0m \u001b[38;5;124;03m\"\"\"\u001b[39;00m\n\u001b[0;32m    212\u001b[0m \u001b[38;5;28;01mtry\u001b[39;00m:\n\u001b[1;32m--> 213\u001b[0m     ret: Optional[LoggedEventReturnValue[T]] \u001b[38;5;241m=\u001b[39m wrapped(\u001b[38;5;241m*\u001b[39margs, \u001b[38;5;241m*\u001b[39m\u001b[38;5;241m*\u001b[39mkwargs)\n\u001b[0;32m    215\u001b[0m \u001b[38;5;28;01mexcept\u001b[39;00m \u001b[38;5;167;01mException\u001b[39;00m \u001b[38;5;28;01mas\u001b[39;00m e:\n\u001b[0;32m    216\u001b[0m     \u001b[38;5;28mself\u001b[39m\u001b[38;5;241m.\u001b[39m_log_event(event_type, success\u001b[38;5;241m=\u001b[39m\u001b[38;5;28;01mFalse\u001b[39;00m, error\u001b[38;5;241m=\u001b[39me)\n",
      "File \u001b[1;32m~\\anaconda3\\Lib\\site-packages\\otter\\check\\notebook.py:280\u001b[0m, in \u001b[0;36mNotebook.check\u001b[1;34m(self, question, global_env)\u001b[0m\n\u001b[0;32m    278\u001b[0m \u001b[38;5;66;03m# run the check\u001b[39;00m\n\u001b[0;32m    279\u001b[0m \u001b[38;5;28mself\u001b[39m\u001b[38;5;241m.\u001b[39m_logger\u001b[38;5;241m.\u001b[39mdebug(\u001b[38;5;124mf\u001b[39m\u001b[38;5;124m\"\u001b[39m\u001b[38;5;124mCalling checker\u001b[39m\u001b[38;5;124m\"\u001b[39m)\n\u001b[1;32m--> 280\u001b[0m result \u001b[38;5;241m=\u001b[39m Checker\u001b[38;5;241m.\u001b[39mcheck(test_path, \u001b[38;5;28mself\u001b[39m\u001b[38;5;241m.\u001b[39m_nbmeta_config, test_name, global_env)\n\u001b[0;32m    282\u001b[0m \u001b[38;5;28;01mreturn\u001b[39;00m LoggedEventReturnValue(result, question\u001b[38;5;241m=\u001b[39mquestion, shelve_env\u001b[38;5;241m=\u001b[39mglobal_env)\n",
      "File \u001b[1;32m~\\anaconda3\\Lib\\site-packages\\otter\\execute\\checker.py:77\u001b[0m, in \u001b[0;36mChecker.check\u001b[1;34m(cls, nb_or_test_path, nbmeta_config, test_name, global_env)\u001b[0m\n\u001b[0;32m     55\u001b[0m \u001b[38;5;129m@classmethod\u001b[39m\n\u001b[0;32m     56\u001b[0m \u001b[38;5;28;01mdef\u001b[39;00m \u001b[38;5;21mcheck\u001b[39m(\n\u001b[0;32m     57\u001b[0m     \u001b[38;5;28mcls\u001b[39m,\n\u001b[1;32m   (...)\u001b[0m\n\u001b[0;32m     61\u001b[0m     global_env: Optional[Dict[\u001b[38;5;28mstr\u001b[39m, Any]] \u001b[38;5;241m=\u001b[39m \u001b[38;5;28;01mNone\u001b[39;00m,\n\u001b[0;32m     62\u001b[0m ) \u001b[38;5;241m-\u001b[39m\u001b[38;5;241m>\u001b[39m TestFile:\n\u001b[0;32m     63\u001b[0m \u001b[38;5;250m    \u001b[39m\u001b[38;5;124;03m\"\"\"\u001b[39;00m\n\u001b[0;32m     64\u001b[0m \u001b[38;5;124;03m    Checks a global environment against a test, which may be stored in a file or in a notebook's\u001b[39;00m\n\u001b[0;32m     65\u001b[0m \u001b[38;5;124;03m    metadata.\u001b[39;00m\n\u001b[1;32m   (...)\u001b[0m\n\u001b[0;32m     75\u001b[0m \u001b[38;5;124;03m        given global environment\u001b[39;00m\n\u001b[0;32m     76\u001b[0m \u001b[38;5;124;03m    \"\"\"\u001b[39;00m\n\u001b[1;32m---> 77\u001b[0m     test \u001b[38;5;241m=\u001b[39m create_test_file(nb_or_test_path, nbmeta_config, test_name\u001b[38;5;241m=\u001b[39mtest_name)\n\u001b[0;32m     79\u001b[0m     \u001b[38;5;28;01mif\u001b[39;00m global_env \u001b[38;5;129;01mis\u001b[39;00m \u001b[38;5;28;01mNone\u001b[39;00m:\n\u001b[0;32m     80\u001b[0m         global_env \u001b[38;5;241m=\u001b[39m inspect\u001b[38;5;241m.\u001b[39mcurrentframe()\u001b[38;5;241m.\u001b[39mf_back\u001b[38;5;241m.\u001b[39mf_globals\n",
      "File \u001b[1;32m~\\anaconda3\\Lib\\site-packages\\otter\\test_files\\__init__.py:61\u001b[0m, in \u001b[0;36mcreate_test_file\u001b[1;34m(path, nbmeta_config, test_name)\u001b[0m\n\u001b[0;32m     58\u001b[0m         \u001b[38;5;28;01mreturn\u001b[39;00m NotebookMetadataOKTestFile\u001b[38;5;241m.\u001b[39mfrom_nbmeta_config(path, nbmeta_config, test_name)\n\u001b[0;32m     60\u001b[0m     \u001b[38;5;28;01melse\u001b[39;00m:\n\u001b[1;32m---> 61\u001b[0m         \u001b[38;5;28;01mreturn\u001b[39;00m NotebookMetadataExceptionTestFile\u001b[38;5;241m.\u001b[39mfrom_nbmeta_config(\n\u001b[0;32m     62\u001b[0m             path, nbmeta_config, test_name)\n\u001b[0;32m     64\u001b[0m env \u001b[38;5;241m=\u001b[39m {}\n\u001b[0;32m     65\u001b[0m \u001b[38;5;28;01mwith\u001b[39;00m \u001b[38;5;28mopen\u001b[39m(path) \u001b[38;5;28;01mas\u001b[39;00m f:\n",
      "File \u001b[1;32m~\\anaconda3\\Lib\\site-packages\\otter\\test_files\\metadata_test.py:55\u001b[0m, in \u001b[0;36m_NotebookMetadataTestFileMixin.from_nbmeta_config\u001b[1;34m(cls, path, nbmeta_config, test_name)\u001b[0m\n\u001b[0;32m     53\u001b[0m test_spec \u001b[38;5;241m=\u001b[39m nbmeta_config\u001b[38;5;241m.\u001b[39mtests\n\u001b[0;32m     54\u001b[0m \u001b[38;5;28;01mif\u001b[39;00m test_name \u001b[38;5;129;01mnot\u001b[39;00m \u001b[38;5;129;01min\u001b[39;00m test_spec:\n\u001b[1;32m---> 55\u001b[0m     \u001b[38;5;28;01mraise\u001b[39;00m \u001b[38;5;167;01mValueError\u001b[39;00m(\u001b[38;5;124mf\u001b[39m\u001b[38;5;124m\"\u001b[39m\u001b[38;5;124mTest \u001b[39m\u001b[38;5;132;01m{\u001b[39;00mtest_name\u001b[38;5;132;01m}\u001b[39;00m\u001b[38;5;124m not found\u001b[39m\u001b[38;5;124m\"\u001b[39m)\n\u001b[0;32m     57\u001b[0m test_spec \u001b[38;5;241m=\u001b[39m test_spec[test_name]\n\u001b[0;32m     58\u001b[0m \u001b[38;5;28;01mreturn\u001b[39;00m \u001b[38;5;28mcls\u001b[39m\u001b[38;5;241m.\u001b[39mfrom_metadata(test_spec, path\u001b[38;5;241m=\u001b[39mpath)\n",
      "\u001b[1;31mValueError\u001b[0m: Test q1 not found"
     ]
    }
   ],
   "source": [
    "\n",
    "grader.check(\"q1\")"
   ]
  },
  {
   "cell_type": "code",
   "execution_count": null,
   "metadata": {},
   "outputs": [],
   "source": []
  }
 ],
 "metadata": {
  "kernelspec": {
   "display_name": "Python 3 (ipykernel)",
   "language": "python",
   "name": "python3"
  },
  "language_info": {
   "codemirror_mode": {
    "name": "ipython",
    "version": 3
   },
   "file_extension": ".py",
   "mimetype": "text/x-python",
   "name": "python",
   "nbconvert_exporter": "python",
   "pygments_lexer": "ipython3",
   "version": "3.11.7"
  }
 },
 "nbformat": 4,
 "nbformat_minor": 4
}
