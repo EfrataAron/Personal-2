{
 "cells": [
  {
   "cell_type": "code",
   "execution_count": 9,
   "metadata": {},
   "outputs": [
    {
     "name": "stdout",
     "output_type": "stream",
     "text": [
      "     Year                      Date   Time      HomeTeam       AwayTeam  \\\n",
      "0    1957                  10-Feb-57    NaN       Sudan           Egypt   \n",
      "1    1957                  10-Feb-57    NaN    Ethiopia    South Africa   \n",
      "2    1957                  16-Feb-57    NaN       Egypt        Ethiopia   \n",
      "3    1959                  22-May-59    NaN        Egypt       Ethiopia   \n",
      "4    1959                  25-May-59    NaN       Sudan        Ethiopia   \n",
      "..    ...                        ...    ...          ...            ...   \n",
      "617  2019  11 July 2019 (2019-07-11)  21:00  Madagascar         Tunisia   \n",
      "618  2019  14 July 2019 (2019-07-14)  18:00     Senegal         Tunisia   \n",
      "619  2019  14 July 2019 (2019-07-14)  21:00     Algeria         Nigeria   \n",
      "620  2019  17 July 2019 (2019-07-17)  21:00     Tunisia         Nigeria   \n",
      "621  2019  19 July 2019 (2019-07-19)  21:00     Senegal         Algeria   \n",
      "\n",
      "     HomeTeamGoals  AwayTeamGoals                 Stage  \\\n",
      "0              1.0            2.0            Semifinals   \n",
      "1              NaN            NaN            Semifinals   \n",
      "2              4.0            0.0                 Final   \n",
      "3              4.0            0.0      Final Tournament   \n",
      "4              1.0            0.0      Final Tournament   \n",
      "..             ...            ...                   ...   \n",
      "617            0.0            3.0        Quarter-finals   \n",
      "618            1.0            0.0           Semi-finals   \n",
      "619            2.0            1.0           Semi-finals   \n",
      "620            0.0            1.0  Third place play-off   \n",
      "621            0.0            1.0                 Final   \n",
      "\n",
      "                                  SpecialWinConditions  \\\n",
      "0                                                  NaN   \n",
      "1    Ethiopia  wins due to disqualification of othe...   \n",
      "2                                                  NaN   \n",
      "3                                                  NaN   \n",
      "4                                                  NaN   \n",
      "..                                                 ...   \n",
      "617                                                NaN   \n",
      "618                              win after extra time    \n",
      "619                                                NaN   \n",
      "620                                                NaN   \n",
      "621                                                NaN   \n",
      "\n",
      "                         Stadium       City  Attendance  \n",
      "0              Municipal Stadium   Khartoum     30000.0  \n",
      "1                            NaN        NaN         NaN  \n",
      "2              Municipal Stadium   Khartoum     30000.0  \n",
      "3          Prince Farouk Stadium      Cairo     30000.0  \n",
      "4          Prince Farouk Stadium      Cairo     20000.0  \n",
      "..                           ...        ...         ...  \n",
      "617             Al Salam Stadium      Cairo      7568.0  \n",
      "618              30 June Stadium      Cairo      9143.0  \n",
      "619  Cairo International Stadium      Cairo     49775.0  \n",
      "620             Al Salam Stadium      Cairo      6340.0  \n",
      "621  Cairo International Stadium      Cairo     75000.0  \n",
      "\n",
      "[622 rows x 12 columns]\n"
     ]
    }
   ],
   "source": [
    "import pandas as pd\n",
    "\n",
    "\n",
    "file_path = r'AfricaCupofNationsMatches.csv'\n",
    "df = pd.read_csv(file_path)\n",
    "\n",
    "\n",
    "\n",
    "print(df)\n"
   ]
  }
 ],
 "metadata": {
  "kernelspec": {
   "display_name": "Python 3",
   "language": "python",
   "name": "python3"
  },
  "language_info": {
   "codemirror_mode": {
    "name": "ipython",
    "version": 3
   },
   "file_extension": ".py",
   "mimetype": "text/x-python",
   "name": "python",
   "nbconvert_exporter": "python",
   "pygments_lexer": "ipython3",
   "version": "3.12.4"
  }
 },
 "nbformat": 4,
 "nbformat_minor": 2
}
