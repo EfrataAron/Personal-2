{
 "cells": [
  {
   "cell_type": "code",
   "execution_count": 5,
   "metadata": {},
   "outputs": [
    {
     "name": "stdout",
     "output_type": "stream",
     "text": [
      "Pandas Series from the dictionary:\n",
      "Roman     24\n",
      "Jack      36\n",
      "Kylian    19\n",
      "James     65\n",
      "Reign     44\n",
      "dtype: int64\n",
      "\n"
     ]
    }
   ],
   "source": [
    "import pandas as pd\n",
    "\n",
    "# Sample dictionary\n",
    "mydictionary = {'Roman': 24, 'Jack': 36, 'Kylian': 19, 'James': 65, 'Reign': 44}\n",
    "\n",
    "# Convert dictionary to Pandas Series\n",
    "series = pd.Series(mydictionary)\n",
    "\n",
    "# Display the Pandas Series\n",
    "print(\"Pandas Series from the dictionary:\")\n",
    "print(series)\n",
    "\n"
   ]
  }
 ],
 "metadata": {
  "kernelspec": {
   "display_name": "Python 3",
   "language": "python",
   "name": "python3"
  },
  "language_info": {
   "codemirror_mode": {
    "name": "ipython",
    "version": 3
   },
   "file_extension": ".py",
   "mimetype": "text/x-python",
   "name": "python",
   "nbconvert_exporter": "python",
   "pygments_lexer": "ipython3",
   "version": "3.12.4"
  }
 },
 "nbformat": 4,
 "nbformat_minor": 2
}
