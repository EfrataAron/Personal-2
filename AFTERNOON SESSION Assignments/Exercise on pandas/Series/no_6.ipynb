{
 "cells": [
  {
   "cell_type": "code",
   "execution_count": 18,
   "metadata": {},
   "outputs": [
    {
     "name": "stdout",
     "output_type": "stream",
     "text": [
      "First few rows of the dataset:\n",
      "   Year      Date  Time    HomeTeam       AwayTeam  HomeTeamGoals  \\\n",
      "0  1957  10-Feb-57   NaN     Sudan           Egypt            1.0   \n",
      "1  1957  10-Feb-57   NaN  Ethiopia    South Africa            NaN   \n",
      "2  1957  16-Feb-57   NaN     Egypt        Ethiopia            4.0   \n",
      "3  1959  22-May-59   NaN      Egypt       Ethiopia            4.0   \n",
      "4  1959  25-May-59   NaN     Sudan        Ethiopia            1.0   \n",
      "\n",
      "   AwayTeamGoals             Stage  \\\n",
      "0            2.0        Semifinals   \n",
      "1            NaN        Semifinals   \n",
      "2            0.0             Final   \n",
      "3            0.0  Final Tournament   \n",
      "4            0.0  Final Tournament   \n",
      "\n",
      "                                SpecialWinConditions                Stadium  \\\n",
      "0                                                NaN      Municipal Stadium   \n",
      "1  Ethiopia  wins due to disqualification of othe...                    NaN   \n",
      "2                                                NaN      Municipal Stadium   \n",
      "3                                                NaN  Prince Farouk Stadium   \n",
      "4                                                NaN  Prince Farouk Stadium   \n",
      "\n",
      "        City  Attendance  \n",
      "0   Khartoum     30000.0  \n",
      "1        NaN         NaN  \n",
      "2   Khartoum     30000.0  \n",
      "3      Cairo     30000.0  \n",
      "4      Cairo     20000.0  \n"
     ]
    }
   ],
   "source": [
    "import pandas as pd\n",
    "\n",
    "\n",
    "file_path = r'AfricaCupofNationsMatches.csv'\n",
    "df = pd.read_csv(file_path)\n",
    "\n",
    "\n",
    "print(\"First few rows of the dataset:\")\n",
    "print(df.head())\n"
   ]
  }
 ],
 "metadata": {
  "kernelspec": {
   "display_name": "Python 3",
   "language": "python",
   "name": "python3"
  },
  "language_info": {
   "codemirror_mode": {
    "name": "ipython",
    "version": 3
   },
   "file_extension": ".py",
   "mimetype": "text/x-python",
   "name": "python",
   "nbconvert_exporter": "python",
   "pygments_lexer": "ipython3",
   "version": "3.12.4"
  }
 },
 "nbformat": 4,
 "nbformat_minor": 2
}
