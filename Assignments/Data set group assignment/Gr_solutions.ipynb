{
 "cells": [
  {
   "cell_type": "code",
   "execution_count": 1,
   "metadata": {},
   "outputs": [
    {
     "name": "stdout",
     "output_type": "stream",
     "text": [
      "   Duration         Date  Pulse  Maxpulse  Calories\n",
      "0        60  2023/10/01'  110.0     130.0     409.1\n",
      "1        60  2023/10/02'  117.0     145.0     479.0\n",
      "2        60  2023/10/03'  103.0     135.0     340.3\n",
      "3        45  2023/10/04'  109.0     175.0     282.4\n",
      "4        45  2023/10/05'  117.0     150.0     405.1\n",
      "\n",
      "   Order ID  Customer Name   Order Date   Product  Quantity  Unit Price  Total Revenue\n",
      "0      1001       John Doe   01/01/2024  Widget A      10.0        25.0          250.0\n",
      "1      1002     Jane Smith   01/02/2024  Widget B       5.0        40.0          200.0\n",
      "2      1003            NaN  2024/01/03'  Widget A       NaN        25.0            NaN\n",
      "3      1004  Alice Johnson   04/01/2024  Widget C       3.0         NaN          210.0\n",
      "4      1005      Bob Brown  2024/01/05'  Widget B      10.0        40.0          400.0\n"
     ]
    }
   ],
   "source": [
    "import pandas as pd\n",
    "\n",
    "# Load the datasets\n",
    "mine_df = pd.read_csv(r'Mine.csv')\n",
    "sales_df = pd.read_csv(r'Sales.csv')\n",
    "\n",
    "print(mine_df.head(5))\n",
    "print()\n",
    "print(sales_df.head(5).to_string())"
   ]
  },
  {
   "cell_type": "code",
   "execution_count": 2,
   "metadata": {},
   "outputs": [
    {
     "name": "stdout",
     "output_type": "stream",
     "text": [
      "Duration    0\n",
      "Date        2\n",
      "Pulse       1\n",
      "Maxpulse    2\n",
      "Calories    4\n",
      "dtype: int64\n",
      "\n",
      "Order ID         0\n",
      "Customer Name    1\n",
      "Order Date       0\n",
      "Product          0\n",
      "Quantity         1\n",
      "Unit Price       1\n",
      "Total Revenue    1\n",
      "dtype: int64\n"
     ]
    }
   ],
   "source": [
    "# Missing values / Empty cells\n",
    "# check for missing values\n",
    "print(mine_df.isnull().sum())\n",
    "print()\n",
    "\n",
    "print(sales_df.isnull().sum())"
   ]
  },
  {
   "cell_type": "code",
   "execution_count": 3,
   "metadata": {},
   "outputs": [
    {
     "name": "stdout",
     "output_type": "stream",
     "text": [
      "    Duration         Date  Pulse  Maxpulse  Calories\n",
      "0         60  2023/10/01'  110.0     130.0     409.1\n",
      "1         60  2023/10/02'  117.0     145.0     479.0\n",
      "2         60  2023/10/03'  103.0     135.0     340.3\n",
      "3         45  2023/10/04'  109.0     175.0     282.4\n",
      "4         45  2023/10/05'  117.0     150.0     405.1\n",
      "5         60  2023/10/06'  103.0     125.0     300.0\n",
      "6         60  2023/10/07'  110.0     135.0     374.0\n",
      "7        400  2023/10/08'  114.0     133.0     240.8\n",
      "8         60  2023/10/09'  112.0     126.0     193.8\n",
      "9         30  2023/10/10'  102.0     147.0     234.8\n",
      "10        60  2023/10/11'  100.0     129.0     375.3\n",
      "11        60  2023/10/12'  109.0     131.0     345.6\n",
      "12        60  2023/10/13'  103.0     136.0     239.2\n",
      "13        60  2023/10/15'  120.0     125.0     240.8\n",
      "14        60  2023/10/15'  120.0     100.0     240.8\n",
      "15        60  2023/10/16'  103.0     101.0     243.8\n",
      "16        60  2023/10/17'  127.0     102.0     380.2\n",
      "17        45     20231018  142.0     103.0     241.4\n",
      "18        60  2023/10/19'  151.0     104.0     240.8\n",
      "19        60  2023/10/20'  162.0     105.0     300.9\n",
      "20        60  2023/10/21'  100.0     106.0     280.0\n",
      "21        60  2023/10/22'  103.0     107.0     240.8\n",
      "22        60  2023/10/15'  130.0     108.0     230.8\n",
      "23        60  2023/10/24'  134.0     125.0     239.7\n",
      "24        60  2023/10/25'  132.0     110.0     236.9\n",
      "25        60  2023/10/26'  135.0     118.0     278.8\n",
      "26        60  2023/10/27'  137.0     119.0     212.9\n",
      "27        60  2023/10/28'  138.0     121.0     345.9\n",
      "28        60  2023/10/29'  139.0     122.0     345.2\n",
      "29        60  2023/10/15'   92.0     125.0     380.5\n",
      "30        60  2023/10/31'   94.0     126.0     240.8\n",
      "\n"
     ]
    }
   ],
   "source": [
    "# Handling missing values\n",
    "#get the mode of each column and store it in a dictionary\n",
    "mode_values = {col: mine_df[col].mode()[0] for col in mine_df.columns}\n",
    "\n",
    "# Fill NaN values with the mode of each column\n",
    "mine_df.fillna(mode_values, inplace=True)\n",
    "\n",
    "print(mine_df)\n",
    "\n",
    "print()\n"
   ]
  },
  {
   "cell_type": "code",
   "execution_count": 4,
   "metadata": {},
   "outputs": [
    {
     "name": "stdout",
     "output_type": "stream",
     "text": [
      "   Order ID  Customer Name   Order Date   Product  Quantity  Unit Price  Total Revenue\n",
      "0      1001       John Doe   01/01/2024  Widget A      10.0        25.0          250.0\n",
      "1      1002     Jane Smith   01/02/2024  Widget B       5.0        40.0          200.0\n",
      "2      1003       John Doe  2024/01/03'  Widget A      10.0        25.0          250.0\n",
      "3      1004  Alice Johnson   04/01/2024  Widget C       3.0        25.0          210.0\n",
      "4      1005      Bob Brown  2024/01/05'  Widget B      10.0        40.0          400.0\n",
      "5      1006       John Doe   06/01/2024  Widget A       4.0        25.0          100.0\n",
      "6      1001       John Doe   01/01/2024  Widget A      10.0        25.0          250.0\n",
      "7      1007     Jane Smith   07/01/2024  Widget C      -6.0        70.0         -420.0\n",
      "\n"
     ]
    }
   ],
   "source": [
    "# Handling missing values\n",
    "#get the mode of each column and store it in a dictionary\n",
    "mode_values = {col: sales_df[col].mode()[0] for col in sales_df.columns}\n",
    "\n",
    "# Fill NaN values with the mode of each column\n",
    "sales_df.fillna(mode_values, inplace=True)\n",
    "\n",
    "print(sales_df.to_string())\n",
    "\n",
    "print()"
   ]
  },
  {
   "cell_type": "code",
   "execution_count": 5,
   "metadata": {},
   "outputs": [
    {
     "name": "stdout",
     "output_type": "stream",
     "text": [
      "    Duration       Date  Pulse  Maxpulse  Calories\n",
      "0         60 2023-10-01  110.0     130.0     409.1\n",
      "1         60 2023-10-02  117.0     145.0     479.0\n",
      "2         60 2023-10-03  103.0     135.0     340.3\n",
      "3         45 2023-10-04  109.0     175.0     282.4\n",
      "4         45 2023-10-05  117.0     150.0     405.1\n",
      "5         60 2023-10-06  103.0     125.0     300.0\n",
      "6         60 2023-10-07  110.0     135.0     374.0\n",
      "7        400 2023-10-08  114.0     133.0     240.8\n",
      "8         60 2023-10-09  112.0     126.0     193.8\n",
      "9         30 2023-10-10  102.0     147.0     234.8\n",
      "10        60 2023-10-11  100.0     129.0     375.3\n",
      "11        60 2023-10-12  109.0     131.0     345.6\n",
      "12        60 2023-10-13  103.0     136.0     239.2\n",
      "13        60 2023-10-15  120.0     125.0     240.8\n",
      "14        60 2023-10-15  120.0     100.0     240.8\n",
      "15        60 2023-10-16  103.0     101.0     243.8\n",
      "16        60 2023-10-17  127.0     102.0     380.2\n",
      "17        45 2023-10-18  142.0     103.0     241.4\n",
      "18        60 2023-10-19  151.0     104.0     240.8\n",
      "19        60 2023-10-20  162.0     105.0     300.9\n",
      "20        60 2023-10-21  100.0     106.0     280.0\n",
      "21        60 2023-10-22  103.0     107.0     240.8\n",
      "22        60 2023-10-15  130.0     108.0     230.8\n",
      "23        60 2023-10-24  134.0     125.0     239.7\n",
      "24        60 2023-10-25  132.0     110.0     236.9\n",
      "25        60 2023-10-26  135.0     118.0     278.8\n",
      "26        60 2023-10-27  137.0     119.0     212.9\n",
      "27        60 2023-10-28  138.0     121.0     345.9\n",
      "28        60 2023-10-29  139.0     122.0     345.2\n",
      "29        60 2023-10-15   92.0     125.0     380.5\n",
      "30        60 2023-10-31   94.0     126.0     240.8\n",
      "\n",
      "   Order ID  Customer Name Order Date   Product  Quantity  Unit Price  Total Revenue\n",
      "0      1001       John Doe 2024-01-01  Widget A      10.0        25.0          250.0\n",
      "1      1002     Jane Smith 2024-01-02  Widget B       5.0        40.0          200.0\n",
      "2      1003       John Doe 2024-01-03  Widget A      10.0        25.0          250.0\n",
      "3      1004  Alice Johnson 2024-04-01  Widget C       3.0        25.0          210.0\n",
      "4      1005      Bob Brown 2024-01-05  Widget B      10.0        40.0          400.0\n",
      "5      1006       John Doe 2024-06-01  Widget A       4.0        25.0          100.0\n",
      "6      1001       John Doe 2024-01-01  Widget A      10.0        25.0          250.0\n",
      "7      1007     Jane Smith 2024-07-01  Widget C      -6.0        70.0         -420.0\n"
     ]
    }
   ],
   "source": [
    "# 2. Handling Inconsistent date formats\n",
    "\n",
    "from datetime import datetime\n",
    "\n",
    "def convert_dates(df):\n",
    "    current_date = datetime.now().date()\n",
    "    for col in df.columns:\n",
    "        if 'date' in col.lower():\n",
    "            df[col] = df[col].fillna(current_date).apply(lambda x: pd.to_datetime(x, errors='coerce'))\n",
    "\n",
    "\n",
    "convert_dates(mine_df)\n",
    "convert_dates(sales_df)\n",
    "\n",
    "print(mine_df.to_string())\n",
    "print()\n",
    "print(sales_df.to_string())"
   ]
  },
  {
   "cell_type": "code",
   "execution_count": 21,
   "metadata": {},
   "outputs": [
    {
     "name": "stdout",
     "output_type": "stream",
     "text": [
      "\n",
      "Duplicate rows:\n",
      "Empty DataFrame\n",
      "Columns: [Duration, Date, Pulse, Maxpulse, Calories]\n",
      "Index: []\n",
      "\n",
      "Empty DataFrame\n",
      "Columns: [Order ID, Customer Name, Product, Quantity, Unit Price, Total Revenue]\n",
      "Index: []\n"
     ]
    }
   ],
   "source": [
    "# 3.  Duplicate rows.\n",
    "\n",
    "# Check for duplicate rows\n",
    "# duplicate_rows = df.duplicated()\n",
    "duplicate_rows = mine_df.duplicated()\n",
    "sales_duplicate_rows = sales_df.duplicated()\n",
    "\n",
    "print(\"\\nDuplicate rows:\")\n",
    "print(mine_df[duplicate_rows])\n",
    "print()\n",
    "print(sales_df[sales_duplicate_rows].to_string())\n",
    "# Handling duplicate rows\n",
    "#Drop duplicate rows\n",
    "\n",
    "mine_df.drop_duplicates(inplace=True)\n",
    "sales_df.drop_duplicates(inplace=True)\n"
   ]
  },
  {
   "cell_type": "code",
   "execution_count": 29,
   "metadata": {},
   "outputs": [
    {
     "name": "stdout",
     "output_type": "stream",
     "text": [
      "    Duration       Date  Pulse  Maxpulse  Calories\n",
      "0         60 2023-10-01  110.0     130.0     409.1\n",
      "1         60 2023-10-02  117.0     145.0     479.0\n",
      "2         60 2023-10-03  103.0     135.0     340.3\n",
      "3         45 2023-10-04  109.0     175.0     282.4\n",
      "4         45 2023-10-05  117.0     150.0     405.1\n",
      "5         60 2023-10-06  103.0     125.0     300.0\n",
      "6         60 2023-10-07  110.0     135.0     374.0\n",
      "7        400 2023-10-08  114.0     133.0     240.8\n",
      "8         60 2023-10-09  112.0     126.0     193.8\n",
      "9         30 2023-10-10  102.0     147.0     234.8\n",
      "10        60 2023-10-11  100.0     129.0     375.3\n",
      "11        60 2023-10-12  109.0     131.0     345.6\n",
      "12        60 2023-10-13  103.0     136.0     239.2\n",
      "13        60 2023-10-15  120.0     125.0     240.8\n",
      "14        60 2023-10-15  120.0     100.0     240.8\n",
      "15        60 2023-10-16  103.0     101.0     243.8\n",
      "16        60 2023-10-17  127.0     102.0     380.2\n",
      "17        45 2023-10-18  142.0     103.0     241.4\n",
      "18        60 2023-10-19  151.0     104.0     240.8\n",
      "19        60 2023-10-20  162.0     105.0     300.9\n",
      "20        60 2023-10-21  100.0     106.0     280.0\n",
      "21        60 2023-10-22  103.0     107.0     240.8\n",
      "22        60 2023-10-15  130.0     108.0     230.8\n",
      "23        60 2023-10-24  134.0     125.0     239.7\n",
      "24        60 2023-10-25  132.0     110.0     236.9\n",
      "25        60 2023-10-26  135.0     118.0     278.8\n",
      "26        60 2023-10-27  137.0     119.0     212.9\n",
      "27        60 2023-10-28  138.0     121.0     345.9\n",
      "28        60 2023-10-29  139.0     122.0     345.2\n",
      "29        60 2023-10-15   92.0     125.0     380.5\n",
      "30        60 2023-10-31   94.0     126.0     240.8\n",
      "   Order ID  Customer Name   Product  Quantity  Unit Price  Total Revenue\n",
      "0      1001       John Doe  Widget A      10.0        25.0          250.0\n",
      "1      1002     Jane Smith  Widget B       5.0        40.0          200.0\n",
      "2      1003       John Doe  Widget A      10.0        25.0          250.0\n",
      "3      1004  Alice Johnson  Widget C       3.0        25.0          210.0\n",
      "4      1005      Bob Brown  Widget B      10.0        40.0          400.0\n",
      "5      1006       John Doe  Widget A       4.0        25.0          100.0\n",
      "7      1007     Jane Smith  Widget C       7.0        70.0          235.0\n"
     ]
    }
   ],
   "source": [
    "# 4. Handle wrong Data\n",
    "\n",
    "# Replace negative values in numerical columns with column mean\n",
    "\n",
    "def negatives_rep(df):\n",
    "    for col in df.select_dtypes(include=['float64', 'int64']).columns:\n",
    "        mean_value = df[col][df[col] >= 0].mean()\n",
    "        df[col] = df[col].apply(lambda x: mean_value if x < 0 else x)\n",
    "\n",
    "negatives_rep(mine_df)\n",
    "negatives_rep(sales_df)\n",
    "\n",
    "print(mine_df)\n",
    "print(sales_df)"
   ]
  },
  {
   "cell_type": "code",
   "execution_count": 20,
   "metadata": {},
   "outputs": [
    {
     "name": "stdout",
     "output_type": "stream",
     "text": [
      "Duration    0\n",
      "Date        0\n",
      "Pulse       0\n",
      "Maxpulse    0\n",
      "Calories    0\n",
      "dtype: int64\n",
      "\n",
      "Order ID         0\n",
      "Customer Name    0\n",
      "Product          0\n",
      "Quantity         0\n",
      "Unit Price       0\n",
      "Total Revenue    0\n",
      "dtype: int64\n"
     ]
    }
   ],
   "source": [
    "print(mine_df.isnull().sum())\n",
    "print()\n",
    "print(sales_df.isnull().sum())"
   ]
  },
  {
   "cell_type": "code",
   "execution_count": 30,
   "metadata": {},
   "outputs": [
    {
     "name": "stdout",
     "output_type": "stream",
     "text": [
      "   Order ID  Customer Name   Product  Quantity  Unit Price  Total Revenue\n",
      "0      1001       John Doe  Widget A      10.0        25.0          250.0\n",
      "1      1002     Jane Smith  Widget B       5.0        40.0          200.0\n",
      "2      1003       John Doe  Widget A      10.0        25.0          250.0\n",
      "3      1004  Alice Johnson  Widget C       3.0        25.0          210.0\n",
      "4      1005      Bob Brown  Widget B      10.0        40.0          400.0\n"
     ]
    }
   ],
   "source": [
    "# 5. Unnecessary columns that are not relevant to the analysis.\n",
    "\n",
    "# Assuming 'Order Date' is unnecessary in Sales dataset\n",
    "if 'Order Date' in sales_df.columns:\n",
    "    sales_df.drop(columns=['Order Date'], inplace=True)\n",
    "    \n",
    "    \n",
    "print(sales_df.head(5).to_string())"
   ]
  },
  {
   "cell_type": "code",
   "execution_count": 23,
   "metadata": {},
   "outputs": [],
   "source": [
    "# Save cleaned datasets to new CSV files\n",
    "mine_df.to_csv('Mine_cleaned.csv', index=False)\n",
    "sales_df.to_csv('Sales_cleaned.csv', index=False)\n"
   ]
  },
  {
   "cell_type": "code",
   "execution_count": 27,
   "metadata": {},
   "outputs": [
    {
     "name": "stdout",
     "output_type": "stream",
     "text": [
      "    Duration        Date  Pulse  Maxpulse  Calories\n",
      "0         60  2023-10-01  110.0     130.0     409.1\n",
      "1         60  2023-10-02  117.0     145.0     479.0\n",
      "2         60  2023-10-03  103.0     135.0     340.3\n",
      "3         45  2023-10-04  109.0     175.0     282.4\n",
      "4         45  2023-10-05  117.0     150.0     405.1\n",
      "5         60  2023-10-06  103.0     125.0     300.0\n",
      "6         60  2023-10-07  110.0     135.0     374.0\n",
      "7        400  2023-10-08  114.0     133.0     240.8\n",
      "8         60  2023-10-09  112.0     126.0     193.8\n",
      "9         30  2023-10-10  102.0     147.0     234.8\n",
      "10        60  2023-10-11  100.0     129.0     375.3\n",
      "11        60  2023-10-12  109.0     131.0     345.6\n",
      "12        60  2023-10-13  103.0     136.0     239.2\n",
      "13        60  2023-10-15  120.0     125.0     240.8\n",
      "14        60  2023-10-15  120.0     100.0     240.8\n",
      "15        60  2023-10-16  103.0     101.0     243.8\n",
      "16        60  2023-10-17  127.0     102.0     380.2\n",
      "17        45  2023-10-18  142.0     103.0     241.4\n",
      "18        60  2023-10-19  151.0     104.0     240.8\n",
      "19        60  2023-10-20  162.0     105.0     300.9\n",
      "20        60  2023-10-21  100.0     106.0     280.0\n",
      "21        60  2023-10-22  103.0     107.0     240.8\n",
      "22        60  2023-10-15  130.0     108.0     230.8\n",
      "23        60  2023-10-24  134.0     125.0     239.7\n",
      "24        60  2023-10-25  132.0     110.0     236.9\n",
      "25        60  2023-10-26  135.0     118.0     278.8\n",
      "26        60  2023-10-27  137.0     119.0     212.9\n",
      "27        60  2023-10-28  138.0     121.0     345.9\n",
      "28        60  2023-10-29  139.0     122.0     345.2\n",
      "29        60  2023-10-15   92.0     125.0     380.5\n",
      "30        60  2023-10-31   94.0     126.0     240.8\n",
      "\n",
      "   Order ID  Customer Name   Product  Quantity  Unit Price  Total Revenue\n",
      "0      1001       John Doe  Widget A      10.0        25.0          250.0\n",
      "1      1002     Jane Smith  Widget B       5.0        40.0          200.0\n",
      "2      1003       John Doe  Widget A      10.0        25.0          250.0\n",
      "3      1004  Alice Johnson  Widget C       3.0        25.0          210.0\n",
      "4      1005      Bob Brown  Widget B      10.0        40.0          400.0\n",
      "5      1006       John Doe  Widget A       4.0        25.0          100.0\n",
      "6      1007     Jane Smith  Widget C       7.0        70.0          235.0\n"
     ]
    }
   ],
   "source": [
    "# Output the cleaned datasets\n",
    "mine_df_cleaned = pd.read_csv('Mine_cleaned.csv')\n",
    "sales_df_cleaned = pd.read_csv('Sales_cleaned.csv')\n",
    "\n",
    "mine_df_cleaned.head(), sales_df_cleaned.head()\n",
    "\n",
    "print(mine_df_cleaned)\n",
    "print()\n",
    "print(sales_df_cleaned)"
   ]
  }
 ],
 "metadata": {
  "kernelspec": {
   "display_name": "Python 3",
   "language": "python",
   "name": "python3"
  },
  "language_info": {
   "codemirror_mode": {
    "name": "ipython",
    "version": 3
   },
   "file_extension": ".py",
   "mimetype": "text/x-python",
   "name": "python",
   "nbconvert_exporter": "python",
   "pygments_lexer": "ipython3",
   "version": "3.12.4"
  }
 },
 "nbformat": 4,
 "nbformat_minor": 2
}
