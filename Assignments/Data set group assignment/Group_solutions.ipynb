{
 "cells": [
  {
   "cell_type": "code",
   "execution_count": 2,
   "metadata": {},
   "outputs": [],
   "source": [
    "import pandas as pd\n",
    "\n",
    "# Load the datasets\n",
    "mine_df = pd.read_csv(r'Mine.csv')\n",
    "sales_df = pd.read_csv(r'Sales.csv')\n"
   ]
  },
  {
   "cell_type": "code",
   "execution_count": 3,
   "metadata": {},
   "outputs": [],
   "source": [
    "\n",
    "# 1. Remove unnecessary columns\n",
    "# Assuming 'Total Revenue' is unnecessary in Sales dataset\n",
    "if 'Total Revenue' in sales_df.columns:\n",
    "    sales_df.drop(columns=['Total Revenue'], inplace=True)\n",
    "\n"
   ]
  },
  {
   "cell_type": "code",
   "execution_count": 4,
   "metadata": {},
   "outputs": [],
   "source": [
    "\n",
    "# 2. Handle missing values\n",
    "# Fill numerical columns with mean and categorical columns with 'Unknown'\n",
    "mine_df.fillna({\n",
    "    col: mine_df[col].mean() if mine_df[col].dtype in ['float64', 'int64'] else 'Unknown'\n",
    "    for col in mine_df.columns\n",
    "}, inplace=True)\n",
    "\n",
    "sales_df.fillna({\n",
    "    col: sales_df[col].mean() if sales_df[col].dtype in ['float64', 'int64'] else 'Unknown'\n",
    "    for col in sales_df.columns\n",
    "}, inplace=True)\n",
    "\n"
   ]
  },
  {
   "cell_type": "code",
   "execution_count": 13,
   "metadata": {},
   "outputs": [
    {
     "name": "stdout",
     "output_type": "stream",
     "text": [
      "   Order ID  Customer Name Order Date   Product   Quantity  Unit Price\n",
      "0      1001       John Doe 2024-01-01  Widget A  10.000000   25.000000\n",
      "1      1002     Jane Smith 2024-01-02  Widget B   5.000000   40.000000\n",
      "2      1003        Unknown        NaT  Widget A   5.142857   25.000000\n",
      "3      1004  Alice Johnson 2024-04-01  Widget C   3.000000   35.714286\n",
      "4      1005      Bob Brown        NaT  Widget B  10.000000   40.000000\n",
      "5      1006       John Doe 2024-06-01  Widget A   4.000000   25.000000\n",
      "7      1007     Jane Smith 2024-07-01  Widget C   6.190476   70.000000\n"
     ]
    }
   ],
   "source": [
    "\n",
    "\n",
    "# 3. Convert date columns to consistent formats\n",
    "for col in mine_df.columns:\n",
    "    if 'date' in col.lower():\n",
    "        mine_df[col] = pd.to_datetime(mine_df[col], errors='coerce')\n",
    "\n",
    "for col in sales_df.columns:\n",
    "    if 'date' in col.lower():\n",
    "        sales_df[col] = pd.to_datetime(sales_df[col], errors='coerce')\n",
    "\n",
    "print(sales_df)\n",
    "\n"
   ]
  },
  {
   "cell_type": "code",
   "execution_count": 6,
   "metadata": {},
   "outputs": [],
   "source": [
    "\n",
    "# 4. Drop duplicate rows\n",
    "mine_df.drop_duplicates(inplace=True)\n",
    "sales_df.drop_duplicates(inplace=True)\n"
   ]
  },
  {
   "cell_type": "code",
   "execution_count": 7,
   "metadata": {},
   "outputs": [],
   "source": [
    "\n",
    "# 5. Handle wrong data\n",
    "# Replace negative values in numerical columns with column mean\n",
    "def replace_negatives_with_mean(df):\n",
    "    for col in df.select_dtypes(include=['float64', 'int64']).columns:\n",
    "        mean_value = df[col][df[col] >= 0].mean()\n",
    "        df[col] = df[col].apply(lambda x: mean_value if x < 0 else x)\n",
    "\n",
    "replace_negatives_with_mean(mine_df)\n",
    "replace_negatives_with_mean(sales_df)\n"
   ]
  },
  {
   "cell_type": "code",
   "execution_count": 8,
   "metadata": {},
   "outputs": [],
   "source": [
    "\n",
    "# Save cleaned datasets to new CSV files\n",
    "mine_df.to_csv('Mine_cleaned.csv', index=False)\n",
    "sales_df.to_csv('Sales_cleaned.csv', index=False)\n"
   ]
  },
  {
   "cell_type": "code",
   "execution_count": 9,
   "metadata": {},
   "outputs": [
    {
     "data": {
      "text/plain": [
       "(   Duration        Date  Pulse  Maxpulse  Calories\n",
       " 0        60  2023-10-01  110.0     130.0     409.1\n",
       " 1        60  2023-10-02  117.0     145.0     479.0\n",
       " 2        60  2023-10-03  103.0     135.0     340.3\n",
       " 3        45  2023-10-04  109.0     175.0     282.4\n",
       " 4        45  2023-10-05  117.0     150.0     405.1,\n",
       "    Order ID  Customer Name  Order Date   Product   Quantity  Unit Price\n",
       " 0      1001       John Doe  2024-01-01  Widget A  10.000000   25.000000\n",
       " 1      1002     Jane Smith  2024-01-02  Widget B   5.000000   40.000000\n",
       " 2      1003        Unknown         NaN  Widget A   5.142857   25.000000\n",
       " 3      1004  Alice Johnson  2024-04-01  Widget C   3.000000   35.714286\n",
       " 4      1005      Bob Brown         NaN  Widget B  10.000000   40.000000)"
      ]
     },
     "execution_count": 9,
     "metadata": {},
     "output_type": "execute_result"
    }
   ],
   "source": [
    "\n",
    "# Output the cleaned datasets\n",
    "mine_df_cleaned = pd.read_csv('Mine_cleaned.csv')\n",
    "sales_df_cleaned = pd.read_csv('Sales_cleaned.csv')\n",
    "\n",
    "mine_df_cleaned.head(), sales_df_cleaned.head()\n"
   ]
  },
  {
   "cell_type": "code",
   "execution_count": 10,
   "metadata": {},
   "outputs": [],
   "source": [
    "# 1. Missing values / Empty cells\n",
    "# The script uses fillna to fill missing values in numerical \n",
    "# columns with the column mean and categorical columns with 'Unknown'.\n",
    "\n",
    "# 2. Inconsistent date formats\n",
    "# The script uses pd.to_datetime to convert all date columns to a consistent datetime format.\n",
    "\n",
    "# 3. Duplicate rows\n",
    "# The script uses drop_duplicates to remove duplicate rows from both datasets.\n",
    "\n",
    "# 4. Wrong data\n",
    "# The script defines a function replace_negatives_with_mean to replace \n",
    "# negative values in numerical columns with the mean of the non-negative values in that column.\n",
    "\n",
    "# 5. Unnecessary columns that are not relevant to the analysis\n",
    "# The script checks for the presence of a column named 'Total Revenue' in \n",
    "# the Sales dataset and drops it if it exists."
   ]
  }
 ],
 "metadata": {
  "kernelspec": {
   "display_name": "Python 3",
   "language": "python",
   "name": "python3"
  },
  "language_info": {
   "codemirror_mode": {
    "name": "ipython",
    "version": 3
   },
   "file_extension": ".py",
   "mimetype": "text/x-python",
   "name": "python",
   "nbconvert_exporter": "python",
   "pygments_lexer": "ipython3",
   "version": "3.12.4"
  }
 },
 "nbformat": 4,
 "nbformat_minor": 2
}
