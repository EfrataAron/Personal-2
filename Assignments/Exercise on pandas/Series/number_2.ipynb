{
 "cells": [
  {
   "cell_type": "code",
   "execution_count": 1,
   "metadata": {},
   "outputs": [
    {
     "name": "stdout",
     "output_type": "stream",
     "text": [
      "Series_a:\n",
      "0     2\n",
      "1     4\n",
      "2     6\n",
      "3     8\n",
      "4    14\n",
      "dtype: int64\n",
      "\n",
      "Series_b:\n",
      "0    1\n",
      "1    3\n",
      "2    5\n",
      "3    7\n",
      "4    9\n",
      "dtype: int64\n",
      "\n",
      "Addition of Series a and Series b:\n",
      "0     3\n",
      "1     7\n",
      "2    11\n",
      "3    15\n",
      "4    23\n",
      "dtype: int64\n",
      "\n",
      "Subtraction of Series a and Series b:\n",
      "0    1\n",
      "1    1\n",
      "2    1\n",
      "3    1\n",
      "4    5\n",
      "dtype: int64\n",
      "\n",
      "Multiplication of Series a and Series b:\n",
      "0      2\n",
      "1     12\n",
      "2     30\n",
      "3     56\n",
      "4    126\n",
      "dtype: int64\n",
      "\n",
      "Division of Series a and Series b:\n",
      "0    2.000000\n",
      "1    1.333333\n",
      "2    1.200000\n",
      "3    1.142857\n",
      "4    1.555556\n",
      "dtype: float64\n"
     ]
    }
   ],
   "source": [
    "import pandas as pd\n",
    "\n",
    "# Define the sample series\n",
    "series_a = pd.Series([2, 4, 6, 8, 14])\n",
    "series_b = pd.Series([1, 3, 5, 7, 9])\n",
    "\n",
    "# Display the series\n",
    "print(\"Series_a:\")\n",
    "print(series_a)\n",
    "print(\"\\nSeries_b:\")\n",
    "print(series_b)\n",
    "\n",
    "# Addition of two series\n",
    "addition = series_a + series_b\n",
    "print(\"\\nAddition of Series a and Series b:\")\n",
    "print(addition)\n",
    "\n",
    "# Subtraction of two series\n",
    "subtraction = series_a - series_b\n",
    "print(\"\\nSubtraction of Series a and Series b:\")\n",
    "print(subtraction)\n",
    "\n",
    "# Multiplication of two series\n",
    "multiplication = series_a * series_b\n",
    "print(\"\\nMultiplication of Series a and Series b:\")\n",
    "print(multiplication)\n",
    "\n",
    "# Division of two series\n",
    "division = series_a / series_b\n",
    "print(\"\\nDivision of Series a and Series b:\")\n",
    "print(division)\n"
   ]
  }
 ],
 "metadata": {
  "kernelspec": {
   "display_name": "Python 3",
   "language": "python",
   "name": "python3"
  },
  "language_info": {
   "codemirror_mode": {
    "name": "ipython",
    "version": 3
   },
   "file_extension": ".py",
   "mimetype": "text/x-python",
   "name": "python",
   "nbconvert_exporter": "python",
   "pygments_lexer": "ipython3",
   "version": "3.12.4"
  }
 },
 "nbformat": 4,
 "nbformat_minor": 2
}
