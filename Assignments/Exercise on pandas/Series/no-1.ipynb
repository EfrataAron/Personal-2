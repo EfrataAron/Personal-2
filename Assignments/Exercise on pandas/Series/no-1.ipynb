{
 "cells": [
  {
   "cell_type": "code",
   "execution_count": 2,
   "metadata": {},
   "outputs": [
    {
     "name": "stdout",
     "output_type": "stream",
     "text": [
      "Series a:\n",
      "0      4\n",
      "1     65\n",
      "2    436\n",
      "3      3\n",
      "4      9\n",
      "dtype: int64\n",
      "\n",
      "Series b:\n",
      "0      7\n",
      "1      0\n",
      "2      3\n",
      "3    897\n",
      "4      9\n",
      "dtype: int64\n",
      "\n",
      "Equal elements:\n",
      "0    False\n",
      "1    False\n",
      "2    False\n",
      "3    False\n",
      "4     True\n",
      "dtype: bool\n",
      "\n",
      "Greater than elements:\n",
      "0    False\n",
      "1     True\n",
      "2     True\n",
      "3    False\n",
      "4    False\n",
      "dtype: bool\n",
      "\n",
      "Less than elements:\n",
      "0     True\n",
      "1    False\n",
      "2    False\n",
      "3     True\n",
      "4    False\n",
      "dtype: bool\n"
     ]
    }
   ],
   "source": [
    "import pandas as pd\n",
    "\n",
    "\n",
    "seriesa = pd.Series([4, 65, 436, 3, 9])\n",
    "seriesb = pd.Series([7, 0, 3, 897, 9])\n",
    "\n",
    "\n",
    "print(\"Series a:\")\n",
    "print(seriesa)\n",
    "print(\"\\nSeries b:\")\n",
    "print(seriesb)\n",
    "\n",
    "# comparing using comparison operators\n",
    "print(\"\\nEqual elements:\")\n",
    "print(seriesa == seriesb)\n",
    "\n",
    "print(\"\\nGreater than elements:\")\n",
    "print(seriesa > seriesb)\n",
    "\n",
    "print(\"\\nLess than elements:\")\n",
    "print(seriesa < seriesb)\n"
   ]
  }
 ],
 "metadata": {
  "kernelspec": {
   "display_name": "Python 3",
   "language": "python",
   "name": "python3"
  },
  "language_info": {
   "codemirror_mode": {
    "name": "ipython",
    "version": 3
   },
   "file_extension": ".py",
   "mimetype": "text/x-python",
   "name": "python",
   "nbconvert_exporter": "python",
   "pygments_lexer": "ipython3",
   "version": "3.12.4"
  }
 },
 "nbformat": 4,
 "nbformat_minor": 2
}
